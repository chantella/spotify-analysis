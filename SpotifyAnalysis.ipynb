{
 "cells": [
  {
   "cell_type": "code",
   "execution_count": null,
   "metadata": {},
   "outputs": [],
   "source": []
  },
  {
   "cell_type": "markdown",
   "metadata": {},
   "source": [
    "GAME PLAN:\n",
    "1. alison will load data from jan 1 2015 to july 1 2016, chantell will take jul 7 2016 - jan 1 2018, liya takes jan 7 2018 - today (all on different docs for loading the data)\n",
    "2. talk about and push all once this is done!\n",
    "3. now, as we are looking at all the top 100 songs for each week for the past 5 years\n",
    "4. create dictionary mapping artists to songs they sing -- ALISON\n",
    "5. create a set of the songs, and then the song the key, and do the different attributes as the values - could do tuples of these values, or do an array - CHANTELL\n",
    "6. log lyrics and do the dumb tf/idf thingie that we did on homewokr 7 -- ALISON\n",
    "7. artist data ((usinig spotify)? --- LIYA\n",
    "8. look into the song titles / words in titles - is there any correlation between how often a title comes up? -- LIYA / CHANTELL? / ALISON (whoever is done :) "
   ]
  },
  {
   "cell_type": "code",
   "execution_count": 115,
   "metadata": {},
   "outputs": [
    {
     "ename": "FileExistsError",
     "evalue": "[Errno 17] File exists: 'Song.txt'",
     "output_type": "error",
     "traceback": [
      "\u001b[0;31m---------------------------------------------------------------------------\u001b[0m",
      "\u001b[0;31mFileExistsError\u001b[0m                           Traceback (most recent call last)",
      "\u001b[0;32m<ipython-input-115-e8282d3cf8be>\u001b[0m in \u001b[0;36m<module>\u001b[0;34m\u001b[0m\n\u001b[1;32m     28\u001b[0m         \u001b[0;31m#fileArtist = open(day+\"Artist.txt\", \"x\")\u001b[0m\u001b[0;34m\u001b[0m\u001b[0;34m\u001b[0m\u001b[0;34m\u001b[0m\u001b[0m\n\u001b[1;32m     29\u001b[0m \u001b[0;34m\u001b[0m\u001b[0m\n\u001b[0;32m---> 30\u001b[0;31m         \u001b[0mfileSong\u001b[0m \u001b[0;34m=\u001b[0m \u001b[0mopen\u001b[0m\u001b[0;34m(\u001b[0m\u001b[0;34m\"Song.txt\"\u001b[0m\u001b[0;34m,\u001b[0m \u001b[0;34m\"x\"\u001b[0m\u001b[0;34m)\u001b[0m\u001b[0;34m\u001b[0m\u001b[0;34m\u001b[0m\u001b[0m\n\u001b[0m\u001b[1;32m     31\u001b[0m         \u001b[0;32mfor\u001b[0m \u001b[0ms\u001b[0m \u001b[0;32min\u001b[0m \u001b[0mchart\u001b[0m\u001b[0;34m:\u001b[0m\u001b[0;34m\u001b[0m\u001b[0;34m\u001b[0m\u001b[0m\n\u001b[1;32m     32\u001b[0m             \u001b[0mfileSong\u001b[0m\u001b[0;34m.\u001b[0m\u001b[0mwrite\u001b[0m\u001b[0;34m(\u001b[0m\u001b[0ms\u001b[0m\u001b[0;34m.\u001b[0m\u001b[0mtitle\u001b[0m \u001b[0;34m+\u001b[0m \u001b[0;34m\": \"\u001b[0m \u001b[0;34m+\u001b[0m \u001b[0ms\u001b[0m\u001b[0;34m.\u001b[0m\u001b[0martist\u001b[0m \u001b[0;34m+\u001b[0m \u001b[0;34m\"\\n\"\u001b[0m\u001b[0;34m)\u001b[0m\u001b[0;34m\u001b[0m\u001b[0;34m\u001b[0m\u001b[0m\n",
      "\u001b[0;31mFileExistsError\u001b[0m: [Errno 17] File exists: 'Song.txt'"
     ]
    }
   ],
   "source": [
    "import billboard\n",
    "from datetime import timedelta, date\n",
    "import time\n",
    "\n",
    "d = {}\n",
    "\n",
    "def daterange(start_date, end_date):\n",
    "    for n in range(int ((end_date - start_date).days)):\n",
    "        yield start_date + timedelta(n)\n",
    "\n",
    "start_date = date(2019, 1, 1)\n",
    "end_date = date(2019, 1, 8)\n",
    "for single_date in daterange(start_date, end_date):\n",
    "    if single_date.weekday() == 0:\n",
    "        day = single_date.strftime(\"%Y-%m-%d\")\n",
    "        \n",
    "        while True:\n",
    "            try:\n",
    "                chart = billboard.ChartData('hot-100', date=day)\n",
    "                #chart2 = billboard.ChartData('artist-100', date=day)\n",
    "                break\n",
    "            except:\n",
    "                print('waiting 60 sec...')\n",
    "                time.sleep(60)\n",
    "        \n",
    "        #print(type(chart))\n",
    "        #print(chart)\n",
    "        #fileArtist = open(day+\"Artist.txt\", \"x\")\n",
    "        \n",
    "        fileSong = open(\"Song.txt\", \"x\")\n",
    "        for s in chart:\n",
    "            fileSong = open(\"Song.txt\", \"a\")\n",
    "            fileSong.write(s.title + \": \" + s.artist + \"\\n\")\n",
    "        \n",
    "        #print(chart2)\n",
    "        \n",
    "        #fileArtist = open(\"Artist.txt\", \"a\")\n",
    "        #for line in chart2:\n",
    "           # fileArtist.write(line.artist + \"\\n\")\n",
    "\n",
    "                \n",
    "        #print(chart2[0].title)\n",
    "        #i = 0;\n",
    "       # while(i < 100):\n",
    "            #print(chart2[0].title)\n",
    "            #fileSong.write(chart2[i])\n",
    "            #i = i + 1\n",
    "        \n",
    "        #fileArtist.write(chart2)\n",
    "        \n",
    "        #if title not in d:\n",
    "            #d[title] = chart[0].weeks\n",
    "       # song = chart[0]\n",
    "        #print(song.title)\n",
    "        #artist = song.artist\n",
    "       # print(artist)\n",
    "       # print(song.weeks)\n",
    "       # print(song.peakPos)\n",
    "    \n",
    "print(\"Billboard Top 50\")\n",
    "\n",
    "#for i in chart[0:50]:\n",
    "    #print(str(i.rank) + \": \" + i.title + \" - \" + i.artist)"
   ]
  },
  {
   "cell_type": "code",
   "execution_count": 18,
   "metadata": {},
   "outputs": [],
   "source": [
    "chart = billboard.ChartData('hot-100', date=day)"
   ]
  },
  {
   "cell_type": "code",
   "execution_count": 14,
   "metadata": {},
   "outputs": [
    {
     "name": "stdout",
     "output_type": "stream",
     "text": [
      "2010-11-29\n"
     ]
    }
   ],
   "source": [
    "print(day)"
   ]
  },
  {
   "cell_type": "code",
   "execution_count": 13,
   "metadata": {},
   "outputs": [
    {
     "data": {
      "text/plain": [
       "billboard.ChartData('hot-100', date='2010-11-27')"
      ]
     },
     "execution_count": 13,
     "metadata": {},
     "output_type": "execute_result"
    }
   ],
   "source": [
    "charts()"
   ]
  },
  {
   "cell_type": "code",
   "execution_count": 63,
   "metadata": {},
   "outputs": [
    {
     "name": "stdout",
     "output_type": "stream",
     "text": [
      "[{'external_urls': {'spotify': 'https://open.spotify.com/artist/0C8ZW7ezQVs4URX5aX7Kqx'}, 'href': 'https://api.spotify.com/v1/artists/0C8ZW7ezQVs4URX5aX7Kqx', 'id': '0C8ZW7ezQVs4URX5aX7Kqx', 'name': 'Selena Gomez', 'type': 'artist', 'uri': 'spotify:artist:0C8ZW7ezQVs4URX5aX7Kqx'}]\n",
      "spotify:artist:0C8ZW7ezQVs4URX5aX7Kqx\n",
      "['Revival', 'Revival', 'Revival', 'Revival (Deluxe)', 'Revival (Deluxe)', 'Revival (Deluxe)', 'Stars Dance (Deluxe Edition)', 'Stars Dance', 'Stars Dance', 'Stars Dance (Bonus Track Version)', 'Stars Dance']\n",
      "['spotify:album:3qsdWsIePeTOvpsRJV5yQB', 'spotify:album:5ngFWcqWAIO19chggDAmbX', 'spotify:album:066ycImW3DQAyXMMILmPHH', 'spotify:album:75NQVwUzR8KSPwwjpsIDJ2', 'spotify:album:3Kbuu2tHsIbplFUkB7a5oE', 'spotify:album:7lDBDk8OQarV5dBMu3qrdz', 'spotify:album:0HVth8lNDSBceVNSF0u0ND', 'spotify:album:0QldCw51bjMvjxGjpEET1h', 'spotify:album:1Z3ZtkT5cLFoul9AADPHQ9', 'spotify:album:3cGKAHAUhAaTTezK4GbBhQ', 'spotify:album:1c7u7kI8UHayM4kHQua6qI']\n"
     ]
    }
   ],
   "source": [
    "import spotipy\n",
    "from spotipy.oauth2 import SpotifyClientCredentials #To access authorised Spotify data\n",
    "\n",
    "client_id = \"93d31c01487f4b4c982f44ba2d6546a4\"\n",
    "client_secret = \"9d8244915bda4809958c7771e3ae5fc9\"\n",
    "client_credentials_manager = SpotifyClientCredentials(client_id=client_id, client_secret=client_secret)\n",
    "sp = spotipy.Spotify(client_credentials_manager=client_credentials_manager) #spotify object to access API\n",
    "\n",
    "name = artist #chosen artist\n",
    "result = sp.search(name) #search query\n",
    "print(result['tracks']['items'][0]['artists'])\n",
    "\n",
    "artist_uri = result['tracks']['items'][0]['artists'][0]['uri']\n",
    "print(artist_uri)\n",
    "\n",
    "#Pull all of the artist's albums\n",
    "sp_albums = sp.artist_albums(artist_uri, album_type='album')\n",
    "#Store artist's albums' names' and uris in separate lists\n",
    "album_names = []\n",
    "album_uris = []\n",
    "for i in range(len(sp_albums['items'])):\n",
    "    album_names.append(sp_albums['items'][i]['name'])\n",
    "    album_uris.append(sp_albums['items'][i]['uri'])\n",
    "    \n",
    "print(album_names)\n",
    "print(album_uris)\n",
    "#Keep names and uris in same order to keep track of duplicate albums\n"
   ]
  },
  {
   "cell_type": "code",
   "execution_count": 71,
   "metadata": {},
   "outputs": [],
   "source": [
    "def albumSongs(uri):\n",
    "    album = uri #assign album uri to a_name\n",
    "    spotify_albums[album] = {} #Creates dictionary for that specific album\n",
    "    #Create keys-values of empty lists inside nested dictionary for album\n",
    "    spotify_albums[album]['album'] = [] #create empty list\n",
    "    spotify_albums[album]['track_number'] = []\n",
    "    spotify_albums[album]['id'] = []\n",
    "    spotify_albums[album]['name'] = []\n",
    "    spotify_albums[album]['uri'] = []\n",
    "    tracks = sp.album_tracks(album) #pull data on album tracks\n",
    "    for n in range(len(tracks['items'])): #for each song track\n",
    "        spotify_albums[album]['album'].append(album_names[album_count]) #append album name tracked via album_count\n",
    "        spotify_albums[album]['track_number'].append(tracks['items'][n]['track_number'])\n",
    "        spotify_albums[album]['id'].append(tracks['items'][n]['id'])\n",
    "        spotify_albums[album]['name'].append(tracks['items'][n]['name'])\n",
    "        spotify_albums[album]['uri'].append(tracks['items'][n]['uri'])"
   ]
  },
  {
   "cell_type": "code",
   "execution_count": 73,
   "metadata": {},
   "outputs": [
    {
     "name": "stdout",
     "output_type": "stream",
     "text": [
      "Album Revival songs has been added to spotify_albums dictionary\n",
      "Album Revival songs has been added to spotify_albums dictionary\n",
      "Album Revival songs has been added to spotify_albums dictionary\n",
      "Album Revival (Deluxe) songs has been added to spotify_albums dictionary\n",
      "Album Revival (Deluxe) songs has been added to spotify_albums dictionary\n",
      "Album Revival (Deluxe) songs has been added to spotify_albums dictionary\n",
      "Album Stars Dance (Deluxe Edition) songs has been added to spotify_albums dictionary\n",
      "Album Stars Dance songs has been added to spotify_albums dictionary\n",
      "Album Stars Dance songs has been added to spotify_albums dictionary\n",
      "Album Stars Dance (Bonus Track Version) songs has been added to spotify_albums dictionary\n",
      "Album Stars Dance songs has been added to spotify_albums dictionary\n"
     ]
    }
   ],
   "source": [
    "spotify_albums = {}\n",
    "album_count = 0\n",
    "for i in album_uris: #each album\n",
    "    albumSongs(i)\n",
    "    print(\"Album \" + str(album_names[album_count]) + \" songs has been added to spotify_albums dictionary\")\n",
    "    album_count+=1 #Updates album count once all tracks have been added"
   ]
  },
  {
   "cell_type": "code",
   "execution_count": 1,
   "metadata": {},
   "outputs": [],
   "source": [
    "import re\n",
    "import urllib.request\n",
    "from bs4 import BeautifulSoup\n",
    " \n",
    "def get_lyrics(artist,song_title):\n",
    "    artist = artist.lower()\n",
    "    song_title = song_title.lower()\n",
    "  \n",
    "  # remove all except alphanumeric characters from artist and song_title\n",
    "    artist = re.sub('[^A-Za-z0-9]+', \"\", artist)\n",
    "    song_title = re.sub('[^A-Za-z0-9]+', \"\", song_title)\n",
    "    if artist.startswith(\"the\"):    # remove starting 'the' from artist e.g. the who -> who\n",
    "        artist = artist[3:]\n",
    "    url = \"http://azlyrics.com/lyrics/\"+artist+\"/\"+song_title+\".html\"\n",
    "    \n",
    "    try:\n",
    "        content = urllib.request.urlopen(url).read()\n",
    "        soup = BeautifulSoup(content, 'html.parser')\n",
    "        lyrics = str(soup)\n",
    "        # lyrics lies between up_partition and down_partition\n",
    "        up_partition = '<!-- Usage of azlyrics.com content by any third-party lyrics provider is prohibited by our licensing agreement. Sorry about that. -->'\n",
    "        down_partition = '<!-- MxM banner -->'\n",
    "        lyrics = lyrics.split(up_partition)[1]\n",
    "        lyrics = lyrics.split(down_partition)[0]\n",
    "        lyrics = lyrics.replace('<br>','').replace('</br>','').replace('</div>','').strip()\n",
    "        return lyrics\n",
    "    except Exception as e:\n",
    "        return \"Exception occurred \\n\" +str(e)"
   ]
  },
  {
   "cell_type": "code",
   "execution_count": 2,
   "metadata": {},
   "outputs": [
    {
     "name": "stdout",
     "output_type": "stream",
     "text": [
      "Ohhh ah<br/>\n",
      "Ohhh ah<br/>\n",
      "Ohhhh aaahhh<br/>\n",
      "<br/>\n",
      "You know you love me, I know you care<br/>\n",
      "Just shout whenever, and I'll be there<br/>\n",
      "You are my love, you are my heart<br/>\n",
      "And we will never ever ever be apart<br/>\n",
      "<br/>\n",
      "Are we an item? Girl, quit playing<br/>\n",
      "We're just friends, what are you saying?<br/>\n",
      "Said there's another and looked right in my eyes<br/>\n",
      "My first love broke my heart for the first time<br/>\n",
      "And I was like...<br/>\n",
      "<br/>\n",
      "Baby, baby, baby oooh<br/>\n",
      "Like baby, baby, baby nooo<br/>\n",
      "Like baby, baby, baby oooh<br/>\n",
      "I thought you'd always be mine (mine)<br/>\n",
      "<br/>\n",
      "Baby, baby, baby oooh<br/>\n",
      "Like baby, baby, baby nooo<br/>\n",
      "Like baby, baby, baby oooh<br/>\n",
      "I thought you'd always be mine (mine)<br/>\n",
      "<br/>\n",
      "Oh, for you I would have done whatever<br/>\n",
      "And I just can't believe we ain't together<br/>\n",
      "And I wanna play it cool, but I'm losin' you<br/>\n",
      "I'll buy you anything, I'll buy you any ring<br/>\n",
      "And I'm in pieces, baby fix me<br/>\n",
      "And just shake me 'til you wake me from this bad dream<br/>\n",
      "I'm going down, down, down, down<br/>\n",
      "And I just can't believe my first love won't be around<br/>\n",
      "<br/>\n",
      "And I'm like<br/>\n",
      "Baby, baby, baby oooh<br/>\n",
      "Like baby, baby, baby nooo<br/>\n",
      "Like baby, baby, baby oooh<br/>\n",
      "I thought you'd always be mine (mine)<br/>\n",
      "<br/>\n",
      "Baby, baby, baby oooh<br/>\n",
      "Like baby, baby, baby nooo<br/>\n",
      "Like baby, baby, baby oooh<br/>\n",
      "I thought you'd always be mine (mine)<br/>\n",
      "<br/>\n",
      "<i>[Ludacris:]</i><br/>\n",
      "Luda! When I was 13, I had my first love<br/>\n",
      "There was nobody that compared to my baby<br/>\n",
      "And nobody came between us or could ever come above<br/>\n",
      "She had me going crazy, oh, I was star-struck<br/>\n",
      "She woke me up daily, don't need no Starbucks<br/>\n",
      "She made my heart pound, and skip a beat when I see her in the street and<br/>\n",
      "At school on the playground but I really wanna see her on the weekend<br/>\n",
      "She knows she got me dazing cause she was so amazing<br/>\n",
      "And now my heart is breaking but I just keep on saying...<br/>\n",
      "<br/>\n",
      "Baby, baby, baby oooh<br/>\n",
      "Like baby, baby, baby nooo<br/>\n",
      "Like baby, baby, baby oooh<br/>\n",
      "I thought you'd always be mine (mine)<br/>\n",
      "<br/>\n",
      "Baby, baby, baby oooh<br/>\n",
      "Like baby, baby, baby nooo<br/>\n",
      "Like baby, baby, baby oooh<br/>\n",
      "I thought you'd always be mine (mine)<br/>\n",
      "<br/>\n",
      "I'm gone (Yeah Yeah Yeah, Yeah Yeah Yeah)<br/>\n",
      "Now I'm all gone (Yeah Yeah Yeah, Yeah Yeah Yeah)<br/>\n",
      "Now I'm all gone (Yeah Yeah Yeah, Yeah Yeah Yeah)<br/>\n",
      "Now I'm all gone (gone, gone, gone...)<br/>\n",
      "I'm gone\n",
      "\n",
      "<br/><br/>\n"
     ]
    }
   ],
   "source": [
    "print(get_lyrics(\"Justin Bieber\", \"Baby\"))"
   ]
  },
  {
   "cell_type": "code",
   "execution_count": null,
   "metadata": {},
   "outputs": [],
   "source": []
  }
 ],
 "metadata": {
  "kernelspec": {
   "display_name": "Python 3",
   "language": "python",
   "name": "python3"
  },
  "language_info": {
   "codemirror_mode": {
    "name": "ipython",
    "version": 3
   },
   "file_extension": ".py",
   "mimetype": "text/x-python",
   "name": "python",
   "nbconvert_exporter": "python",
   "pygments_lexer": "ipython3",
   "version": "3.7.3"
  }
 },
 "nbformat": 4,
 "nbformat_minor": 2
}
